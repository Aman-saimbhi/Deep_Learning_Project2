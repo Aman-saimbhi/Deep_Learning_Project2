{
  "nbformat": 4,
  "nbformat_minor": 0,
  "metadata": {
    "colab": {
      "name": "Visualization_Image_Retrieval.ipynb",
      "provenance": []
    },
    "kernelspec": {
      "name": "python3",
      "display_name": "Python 3"
    },
    "language_info": {
      "name": "python"
    }
  },
  "cells": [
    {
      "cell_type": "code",
      "execution_count": 1,
      "metadata": {
        "id": "URcRaiXZ7mqb"
      },
      "outputs": [],
      "source": [
        "import pickle\n",
        "import matplotlib.pyplot as plt\n",
        "with open(\"/content/b_RE_default_test_loss_400\", \"rb\") as fp:   # Unpickling\n",
        "  b_default_RE_test_loss = pickle.load(fp)\n",
        "with open(\"/content/b_RE_default_train_loss_400\", \"rb\") as fp:   # Unpickling\n",
        "  b_default_RE_train_loss = pickle.load(fp)\n",
        "with open(\"/content/b_re_test_loss_400\", \"rb\") as fp:   # Unpickling\n",
        "  b_RE_test_loss = pickle.load(fp)\n",
        "with open(\"/content/b_re_train_loss_400\", \"rb\") as fp:   # Unpickling\n",
        "  b_RE_train_loss = pickle.load(fp)\n",
        "with open(\"/content/baseline_test_loss_400\", \"rb\") as fp:   # Unpickling\n",
        "  base_test_loss = pickle.load(fp)\n",
        "with open(\"/content/baseline_train_loss_400\", \"rb\") as fp:   # Unpickling\n",
        "  base_train_loss = pickle.load(fp)"
      ]
    },
    {
      "cell_type": "code",
      "source": [
        "epochs = range(1,401)\n",
        "# plt.plot(epochs, base_train_loss, 'g', label='Base Training loss')\n",
        "plt.plot(epochs, base_test_loss, 'b', label='Base Testing loss')\n",
        "\n",
        "# plt.plot(epochs, b_RE_train_loss, 'r', label='Base+RE Training loss')\n",
        "plt.plot(epochs, b_RE_test_loss, 'y', label='Base+RE Testing loss')\n",
        "\n",
        "# plt.plot(epochs, b_default_RE_train_loss, 'pink', label='Base+Default+RE Training loss')\n",
        "plt.plot(epochs, b_default_RE_test_loss, 'brown', label='Base+Default+RE Testing loss')\n",
        "\n",
        "plt.title('Testing loss with Different Augmentation')\n",
        "plt.xlabel('Epochs')\n",
        "plt.ylabel('Loss')\n",
        "plt.legend()\n",
        "plt.show()"
      ],
      "metadata": {
        "id": "gnD-XNZ_8mpH"
      },
      "execution_count": 1,
      "outputs": []
    },
    {
      "cell_type": "code",
      "source": [
        ""
      ],
      "metadata": {
        "id": "rylkyg6v9vkP"
      },
      "execution_count": null,
      "outputs": []
    }
  ]
}